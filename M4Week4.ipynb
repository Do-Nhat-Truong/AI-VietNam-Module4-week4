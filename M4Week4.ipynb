{
  "nbformat": 4,
  "nbformat_minor": 0,
  "metadata": {
    "colab": {
      "provenance": [],
      "authorship_tag": "ABX9TyMXjgLWCCeJR5wksVmeoT/T",
      "include_colab_link": true
    },
    "kernelspec": {
      "name": "python3",
      "display_name": "Python 3"
    },
    "language_info": {
      "name": "python"
    }
  },
  "cells": [
    {
      "cell_type": "markdown",
      "metadata": {
        "id": "view-in-github",
        "colab_type": "text"
      },
      "source": [
        "<a href=\"https://colab.research.google.com/github/Do-Nhat-Truong/AI-VietNam-Module4-week4/blob/main/M4Week4.ipynb\" target=\"_parent\"><img src=\"https://colab.research.google.com/assets/colab-badge.svg\" alt=\"Open In Colab\"/></a>"
      ]
    },
    {
      "cell_type": "code",
      "source": [
        "import numpy as np"
      ],
      "metadata": {
        "id": "8pnf5eNS5f7U"
      },
      "execution_count": 35,
      "outputs": []
    },
    {
      "cell_type": "code",
      "execution_count": 36,
      "metadata": {
        "id": "x3Qs4t955Lhe"
      },
      "outputs": [],
      "source": [
        "\n",
        "\n",
        "class CustomLinearRegression:\n",
        "    def __init__(self, X_data, y_target, learning_rate=0.01, num_epochs=10000):\n",
        "        self.num_samples = X_data.shape[0]\n",
        "        self.X_data = np.c_[np.ones((self.num_samples, 1)), X_data]\n",
        "        self.y_target = y_target\n",
        "        self.learning_rate = learning_rate\n",
        "        self.num_epochs = num_epochs\n",
        "\n",
        "        # Khởi tạo trọng số ngẫu nhiên\n",
        "        self.theta = np.random.randn(self.X_data.shape[1], 1)\n",
        "        self.losses = []\n",
        "\n",
        "    def compute_loss(self, y_pred, y_target):\n",
        "        # Giả sử bạn muốn tính toán hàm mất mát theo công thức lỗi bình phương trung bình (MSE)\n",
        "        loss = np.mean((y_pred - y_target) ** 2)\n",
        "        return loss\n",
        "\n",
        "    def predict(self, X_data):\n",
        "        # Dự đoán dựa trên X_data và trọng số theta\n",
        "        y_pred = X_data.dot(self.theta)\n",
        "        return y_pred\n",
        "\n",
        "    def fit(self):\n",
        "        for epoch in range(self.num_epochs):\n",
        "            # Dự đoán giá trị y_pred\n",
        "            y_pred = self.predict(self.X_data)\n",
        "\n",
        "            # Tính toán hàm mất mát và thêm vào danh sách losses\n",
        "            loss = self.compute_loss(y_pred, self.y_target)\n",
        "            self.losses.append(loss)\n",
        "\n",
        "            # Tính gradient\n",
        "            gradients = 2 * self.X_data.T.dot(y_pred - self.y_target) / self.num_samples\n",
        "\n",
        "            # Cập nhật trọng số\n",
        "            self.theta -= self.learning_rate * gradients\n",
        "\n",
        "            if (epoch % 50) == 0:\n",
        "                print(f'Epoch: {epoch} - Loss: {loss}')\n",
        "\n",
        "        return {\n",
        "            'loss': sum(self.losses) / len(self.losses),\n",
        "            'weight': self.theta\n",
        "        }\n"
      ]
    },
    {
      "cell_type": "code",
      "source": [
        "def r2score(y_pred, y):\n",
        "    rss = np.sum((y_pred - y) ** 2)\n",
        "    tss = np.sum((y - y.mean()) ** 2)\n",
        "    r2 = 1 - (rss / tss)\n",
        "    return r2"
      ],
      "metadata": {
        "id": "RYz10rmD5kx3"
      },
      "execution_count": 37,
      "outputs": []
    },
    {
      "cell_type": "code",
      "source": [
        "# Case 1\n",
        "y_pred = np.array ([1 , 2 , 3 , 4 , 5])\n",
        "y = np.array ([1 , 2 , 3 , 4 , 5])\n",
        "r1=r2score(y_pred , y )\n",
        "\n",
        "# Case 2\n",
        "y_pred = np.array([1 , 2 , 3 , 4 , 5])\n",
        "y = np.array([3 , 5 , 5 , 2 , 4])\n",
        "r2=r2score(y_pred , y )\n",
        "\n",
        "print(r1,r2)"
      ],
      "metadata": {
        "colab": {
          "base_uri": "https://localhost:8080/"
        },
        "id": "hrUSywiu5sq4",
        "outputId": "72428d1f-7424-4b77-a0ca-c49a58b0a84e"
      },
      "execution_count": 38,
      "outputs": [
        {
          "output_type": "stream",
          "name": "stdout",
          "text": [
            "1.0 -2.235294117647059\n"
          ]
        }
      ]
    },
    {
      "cell_type": "code",
      "source": [
        "def create_polynomial_features (X , degree =2):\n",
        "  X_new = X\n",
        "  for d in range(2, degree + 1):\n",
        "    X_new = np.c_[X_new, np.power(X, d)]\n",
        "  return X_new\n",
        "X = np.array ([[1] , [2] , [3]])\n",
        "print(create_polynomial_features(X, degree = 2))"
      ],
      "metadata": {
        "colab": {
          "base_uri": "https://localhost:8080/"
        },
        "id": "L2pWcTEV7LZn",
        "outputId": "af5ca90a-6aef-44fd-8248-4b69fce8f783"
      },
      "execution_count": 39,
      "outputs": [
        {
          "output_type": "stream",
          "name": "stdout",
          "text": [
            "[[1 1]\n",
            " [2 4]\n",
            " [3 9]]\n"
          ]
        }
      ]
    },
    {
      "cell_type": "code",
      "source": [
        "def create_polynomial_features2(X, degree=2):\n",
        "    \"\"\" Creates the polynomial features \"\"\"\n",
        "    X_mem = []\n",
        "    for X_sub in X.T:\n",
        "        X_new = X_sub\n",
        "        for d in range(2, degree + 1):\n",
        "            X_new = np.c_[X_new, np.power(X_sub, d)]\n",
        "        X_mem.extend(X_new.T)\n",
        "    return np.c_[X_mem].T\n",
        "# Kiểm tra mã\n",
        "X = np.array([\n",
        "    [1, 2],\n",
        "    [2, 3],\n",
        "    [3, 4]\n",
        "])\n",
        "degree = 2\n",
        "X_poly = create_polynomial_features2(X, degree)\n",
        "print(X_poly)"
      ],
      "metadata": {
        "colab": {
          "base_uri": "https://localhost:8080/"
        },
        "id": "kzQ-BKiI7q8q",
        "outputId": "39e856d6-d768-4efa-fded-eb4c4be0a61f"
      },
      "execution_count": 40,
      "outputs": [
        {
          "output_type": "stream",
          "name": "stdout",
          "text": [
            "[[ 1  1  2  4]\n",
            " [ 2  4  3  9]\n",
            " [ 3  9  4 16]]\n"
          ]
        }
      ]
    },
    {
      "cell_type": "code",
      "source": [
        "!gdown 1A8kK0IEsT3w8htzU18ihFr5UV-euhquC\n"
      ],
      "metadata": {
        "colab": {
          "base_uri": "https://localhost:8080/"
        },
        "id": "kcnMfHizExaT",
        "outputId": "308ccde0-7781-49cd-8c79-33bd0617bb2e"
      },
      "execution_count": 55,
      "outputs": [
        {
          "output_type": "stream",
          "name": "stdout",
          "text": [
            "Downloading...\n",
            "From: https://drive.google.com/uc?id=1A8kK0IEsT3w8htzU18ihFr5UV-euhquC\n",
            "To: /content/SalesPrediction.csv\n",
            "\r  0% 0.00/206k [00:00<?, ?B/s]\r100% 206k/206k [00:00<00:00, 78.7MB/s]\n"
          ]
        }
      ]
    },
    {
      "cell_type": "code",
      "source": [
        "import pandas as pd\n",
        "from sklearn.model_selection import train_test_split\n",
        "from sklearn . preprocessing import StandardScaler\n",
        "# Tải dữ liệu từ file SalesPrediction.csv\n",
        "df = pd.read_csv('SalesPrediction.csv')\n",
        "#df\n"
      ],
      "metadata": {
        "id": "LkQFb9FXFT0B"
      },
      "execution_count": 56,
      "outputs": []
    },
    {
      "cell_type": "code",
      "source": [
        "# Thực hiện One Hot Encoding cho cột Influencer\n",
        "df = pd.get_dummies(df, columns=['Influencer'])\n",
        "# Xem dữ liệu sau khi mã hóa\n",
        "print(df.head())"
      ],
      "metadata": {
        "colab": {
          "base_uri": "https://localhost:8080/"
        },
        "id": "GLExgL4CFkXb",
        "outputId": "5a744687-aaa3-42d3-b383-a0ecaf4cdda8"
      },
      "execution_count": 57,
      "outputs": [
        {
          "output_type": "stream",
          "name": "stdout",
          "text": [
            "     TV      Radio  Social Media       Sales  Influencer_Macro  \\\n",
            "0  16.0   6.566231      2.907983   54.732757             False   \n",
            "1  13.0   9.237765      2.409567   46.677897             False   \n",
            "2  41.0  15.886446      2.913410  150.177829             False   \n",
            "3  83.0  30.020028      6.922304  298.246340             False   \n",
            "4  15.0   8.437408      1.405998   56.594181             False   \n",
            "\n",
            "   Influencer_Mega  Influencer_Micro  Influencer_Nano  \n",
            "0             True             False            False  \n",
            "1             True             False            False  \n",
            "2             True             False            False  \n",
            "3             True             False            False  \n",
            "4            False              True            False  \n"
          ]
        }
      ]
    },
    {
      "cell_type": "code",
      "source": [
        "# Xử lý các giá trị Null\n",
        "df = df.fillna(df.mean())\n",
        "\n",
        "# Lấy các đặc trưng (features)\n",
        "X = df[['TV', 'Radio', 'Social Media', 'Influencer_Macro', 'Influencer_Mega',\n",
        "        'Influencer_Micro', 'Influencer_Nano']]\n",
        "y = df[['Sales']]"
      ],
      "metadata": {
        "id": "u22mml06GEbg"
      },
      "execution_count": 58,
      "outputs": []
    },
    {
      "cell_type": "code",
      "source": [
        "# Chia tập dữ liệu thành tập train và test\n",
        "\n",
        "X_train, X_test, y_train, y_test = train_test_split(\n",
        "    X,\n",
        "    y,\n",
        "    test_size=0.33,\n",
        "    random_state=0\n",
        ")\n",
        "\n",
        "#print(X_train,y_train,X_test,y_test)"
      ],
      "metadata": {
        "id": "8lcwZ3vQGnY6"
      },
      "execution_count": 59,
      "outputs": []
    },
    {
      "cell_type": "code",
      "source": [
        "from sklearn . preprocessing import StandardScaler\n",
        "scaler = StandardScaler()\n",
        "\n",
        "X_train_processed = scaler.fit_transform(X_train )\n",
        "X_test_processed = scaler.fit_transform(X_test )\n",
        "\n",
        "#print(np.mean(X_train))\n",
        "scaler.mean_[0]"
      ],
      "metadata": {
        "colab": {
          "base_uri": "https://localhost:8080/"
        },
        "id": "q7PKHODYG0LW",
        "outputId": "d847b222-b719-49e1-a6fd-15bbfe3938bf"
      },
      "execution_count": 73,
      "outputs": [
        {
          "output_type": "execute_result",
          "data": {
            "text/plain": [
              "53.850231941683234"
            ]
          },
          "metadata": {},
          "execution_count": 73
        }
      ]
    },
    {
      "cell_type": "code",
      "source": [
        "from sklearn . preprocessing import PolynomialFeatures\n",
        "poly_features = PolynomialFeatures ( degree =2)\n",
        "X_train_poly = poly_features . fit_transform (X_train_processed )\n",
        "\n",
        "X_test_poly = poly_features . transform ( X_test_processed )\n",
        "#print(X_train_poly,X_test_poly)"
      ],
      "metadata": {
        "colab": {
          "base_uri": "https://localhost:8080/"
        },
        "id": "-9xRo2PZJEze",
        "outputId": "eccb8fc4-5842-468e-bb84-2fcc3e8b09aa"
      },
      "execution_count": 65,
      "outputs": [
        {
          "output_type": "stream",
          "name": "stdout",
          "text": [
            "[[ 1.          0.33869282 -0.3935435  ...  2.99869452 -1.00174084\n",
            "   0.33464052]\n",
            " [ 1.         -0.19852366 -0.28899849 ...  0.33347845  0.33405898\n",
            "   0.33464052]\n",
            " [ 1.         -0.42875929 -1.07436552 ...  0.33347845 -0.99826219\n",
            "   2.98828125]\n",
            " ...\n",
            " [ 1.         -1.61831007 -1.72922605 ...  0.33347845 -0.99826219\n",
            "   2.98828125]\n",
            " [ 1.         -0.58224971 -0.91383556 ...  2.99869452 -1.00174084\n",
            "   0.33464052]\n",
            " [ 1.         -1.27295662 -1.45779228 ...  2.99869452 -1.00174084\n",
            "   0.33464052]] [[ 1.         -0.33831381 -0.09176884 ...  2.89922481 -0.97220258\n",
            "   0.32601054]\n",
            " [ 1.          0.77025605  1.17821405 ...  0.34491979 -1.02859221\n",
            "   3.06738544]\n",
            " [ 1.          1.15252152  1.04864751 ...  0.34491979  0.33533191\n",
            "   0.32601054]\n",
            " ...\n",
            " [ 1.          0.96138879  1.12388703 ...  0.34491979  0.33533191\n",
            "   0.32601054]\n",
            " [ 1.         -0.4147669  -0.29991669 ...  0.34491979  0.33533191\n",
            "   0.32601054]\n",
            " [ 1.         -0.91171201 -1.21956787 ...  0.34491979  0.33533191\n",
            "   0.32601054]]\n"
          ]
        }
      ]
    },
    {
      "cell_type": "code",
      "source": [
        "from sklearn . linear_model import LinearRegression\n",
        "from sklearn . metrics import r2_score\n",
        "poly_model = LinearRegression ()\n",
        "poly_model . fit ( X_train_poly , y_train )\n",
        "preds = poly_model . predict ( X_test_poly )\n",
        "r2_score ( y_test , preds )"
      ],
      "metadata": {
        "colab": {
          "base_uri": "https://localhost:8080/"
        },
        "id": "VWbD0gRoJwrn",
        "outputId": "7d528a86-6db2-4ba5-904e-4228694ea78e"
      },
      "execution_count": 66,
      "outputs": [
        {
          "output_type": "execute_result",
          "data": {
            "text/plain": [
              "-2.2119776223197106e+21"
            ]
          },
          "metadata": {},
          "execution_count": 66
        }
      ]
    }
  ]
}